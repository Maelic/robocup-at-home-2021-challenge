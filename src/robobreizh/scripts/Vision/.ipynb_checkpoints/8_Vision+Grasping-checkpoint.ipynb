{
 "cells": [
  {
   "cell_type": "code",
   "execution_count": 1,
   "metadata": {},
   "outputs": [
    {
     "name": "stdout",
     "output_type": "stream",
     "text": [
      "Defaulting to user installation because normal site-packages is not writeable\n",
      "Requirement already satisfied: trimesh in /home/developer/.local/lib/python2.7/site-packages (3.9.19)\n",
      "Requirement already satisfied: rtree in /home/developer/.local/lib/python2.7/site-packages (0.9.7)\n",
      "Requirement already satisfied: scipy in /home/developer/.local/lib/python2.7/site-packages (1.2.3)\n",
      "Requirement already satisfied: open3d in /home/developer/.local/lib/python2.7/site-packages (0.9.0.0)\n",
      "Requirement already satisfied: pptk in /home/developer/.local/lib/python2.7/site-packages (0.1.0)\n",
      "Requirement already satisfied: setuptools in /usr/local/lib/python2.7/dist-packages (from trimesh) (44.1.1)\n",
      "Requirement already satisfied: numpy in /usr/local/lib/python2.7/dist-packages (from trimesh) (1.16.6)\n",
      "Requirement already satisfied: ipywidgets in /usr/local/lib/python2.7/dist-packages (from open3d) (7.5.1)\n",
      "Requirement already satisfied: notebook in /usr/local/lib/python2.7/dist-packages (from open3d) (5.7.10)\n",
      "Requirement already satisfied: widgetsnbextension in /usr/local/lib/python2.7/dist-packages (from open3d) (3.5.1)\n",
      "Requirement already satisfied: traitlets>=4.3.1 in /usr/local/lib/python2.7/dist-packages (from ipywidgets->open3d) (4.3.3)\n",
      "Requirement already satisfied: ipython<6.0.0,>=4.0.0; python_version < \"3.3\" in /usr/local/lib/python2.7/dist-packages (from ipywidgets->open3d) (5.10.0)\n",
      "Requirement already satisfied: nbformat>=4.2.0 in /usr/local/lib/python2.7/dist-packages (from ipywidgets->open3d) (4.4.0)\n",
      "Requirement already satisfied: ipykernel>=4.5.1 in /usr/local/lib/python2.7/dist-packages (from ipywidgets->open3d) (4.10.1)\n",
      "Requirement already satisfied: ipaddress; python_version == \"2.7\" in /usr/local/lib/python2.7/dist-packages (from notebook->open3d) (1.0.23)\n",
      "Requirement already satisfied: jupyter-core>=4.4.0 in /usr/local/lib/python2.7/dist-packages (from notebook->open3d) (4.6.3)\n",
      "Requirement already satisfied: Send2Trash in /usr/local/lib/python2.7/dist-packages (from notebook->open3d) (1.5.0)\n",
      "Requirement already satisfied: nbconvert<6.0 in /usr/local/lib/python2.7/dist-packages (from notebook->open3d) (5.6.1)\n",
      "Requirement already satisfied: terminado>=0.8.1 in /usr/local/lib/python2.7/dist-packages (from notebook->open3d) (0.8.3)\n",
      "Requirement already satisfied: jinja2 in /usr/local/lib/python2.7/dist-packages (from notebook->open3d) (2.11.2)\n",
      "Requirement already satisfied: jupyter-client>=5.2.0 in /usr/local/lib/python2.7/dist-packages (from notebook->open3d) (5.3.5)\n",
      "Requirement already satisfied: tornado<7,>=4.1 in /usr/local/lib/python2.7/dist-packages (from notebook->open3d) (5.1.1)\n",
      "Requirement already satisfied: ipython-genutils in /usr/local/lib/python2.7/dist-packages (from notebook->open3d) (0.2.0)\n",
      "Requirement already satisfied: pyzmq>=17 in /usr/local/lib/python2.7/dist-packages (from notebook->open3d) (19.0.2)\n",
      "Requirement already satisfied: prometheus-client in /usr/local/lib/python2.7/dist-packages (from notebook->open3d) (0.9.0)\n",
      "Requirement already satisfied: enum34; python_version == \"2.7\" in /usr/local/lib/python2.7/dist-packages (from traitlets>=4.3.1->ipywidgets->open3d) (1.1.10)\n",
      "Requirement already satisfied: decorator in /usr/local/lib/python2.7/dist-packages (from traitlets>=4.3.1->ipywidgets->open3d) (4.4.2)\n",
      "Requirement already satisfied: six in /usr/local/lib/python2.7/dist-packages (from traitlets>=4.3.1->ipywidgets->open3d) (1.15.0)\n",
      "Requirement already satisfied: pygments<2.6 in /usr/local/lib/python2.7/dist-packages (from ipython<6.0.0,>=4.0.0; python_version < \"3.3\"->ipywidgets->open3d) (2.5.2)\n",
      "Requirement already satisfied: prompt-toolkit<2.0.0,>=1.0.4 in /usr/local/lib/python2.7/dist-packages (from ipython<6.0.0,>=4.0.0; python_version < \"3.3\"->ipywidgets->open3d) (1.0.18)\n",
      "Requirement already satisfied: pexpect; sys_platform != \"win32\" in /usr/local/lib/python2.7/dist-packages (from ipython<6.0.0,>=4.0.0; python_version < \"3.3\"->ipywidgets->open3d) (4.8.0)\n",
      "Requirement already satisfied: backports.shutil-get-terminal-size; python_version == \"2.7\" in /usr/local/lib/python2.7/dist-packages (from ipython<6.0.0,>=4.0.0; python_version < \"3.3\"->ipywidgets->open3d) (1.0.0)\n",
      "Requirement already satisfied: simplegeneric>0.8 in /usr/local/lib/python2.7/dist-packages (from ipython<6.0.0,>=4.0.0; python_version < \"3.3\"->ipywidgets->open3d) (0.8.1)\n",
      "Requirement already satisfied: pickleshare in /usr/local/lib/python2.7/dist-packages (from ipython<6.0.0,>=4.0.0; python_version < \"3.3\"->ipywidgets->open3d) (0.7.5)\n",
      "Requirement already satisfied: pathlib2; python_version == \"2.7\" or python_version == \"3.3\" in /usr/local/lib/python2.7/dist-packages (from ipython<6.0.0,>=4.0.0; python_version < \"3.3\"->ipywidgets->open3d) (2.3.5)\n",
      "Requirement already satisfied: jsonschema!=2.5.0,>=2.4 in /usr/local/lib/python2.7/dist-packages (from nbformat>=4.2.0->ipywidgets->open3d) (3.2.0)\n",
      "Requirement already satisfied: defusedxml in /usr/local/lib/python2.7/dist-packages (from nbconvert<6.0->notebook->open3d) (0.6.0)\n",
      "Requirement already satisfied: entrypoints>=0.2.2 in /usr/local/lib/python2.7/dist-packages (from nbconvert<6.0->notebook->open3d) (0.3)\n",
      "Requirement already satisfied: mistune<2,>=0.8.1 in /usr/local/lib/python2.7/dist-packages (from nbconvert<6.0->notebook->open3d) (0.8.4)\n",
      "Requirement already satisfied: bleach in /usr/local/lib/python2.7/dist-packages (from nbconvert<6.0->notebook->open3d) (3.2.1)\n",
      "Requirement already satisfied: pandocfilters>=1.4.1 in /usr/local/lib/python2.7/dist-packages (from nbconvert<6.0->notebook->open3d) (1.4.3)\n",
      "Requirement already satisfied: testpath in /usr/local/lib/python2.7/dist-packages (from nbconvert<6.0->notebook->open3d) (0.4.4)\n",
      "Requirement already satisfied: ptyprocess; os_name != \"nt\" in /usr/local/lib/python2.7/dist-packages (from terminado>=0.8.1->notebook->open3d) (0.6.0)\n",
      "Requirement already satisfied: MarkupSafe>=0.23 in /usr/local/lib/python2.7/dist-packages (from jinja2->notebook->open3d) (1.1.1)\n",
      "Requirement already satisfied: python-dateutil>=2.1 in /usr/local/lib/python2.7/dist-packages (from jupyter-client>=5.2.0->notebook->open3d) (2.8.1)\n",
      "Requirement already satisfied: backports-abc>=0.4 in /usr/local/lib/python2.7/dist-packages (from tornado<7,>=4.1->notebook->open3d) (0.5)\n",
      "Requirement already satisfied: singledispatch in /usr/local/lib/python2.7/dist-packages (from tornado<7,>=4.1->notebook->open3d) (3.4.0.3)\n",
      "Requirement already satisfied: futures in /usr/local/lib/python2.7/dist-packages (from tornado<7,>=4.1->notebook->open3d) (3.3.0)\n",
      "Requirement already satisfied: wcwidth in /usr/local/lib/python2.7/dist-packages (from prompt-toolkit<2.0.0,>=1.0.4->ipython<6.0.0,>=4.0.0; python_version < \"3.3\"->ipywidgets->open3d) (0.2.5)\n",
      "Requirement already satisfied: scandir; python_version < \"3.5\" in /usr/local/lib/python2.7/dist-packages (from pathlib2; python_version == \"2.7\" or python_version == \"3.3\"->ipython<6.0.0,>=4.0.0; python_version < \"3.3\"->ipywidgets->open3d) (1.10.0)\n",
      "Requirement already satisfied: functools32; python_version < \"3\" in /usr/local/lib/python2.7/dist-packages (from jsonschema!=2.5.0,>=2.4->nbformat>=4.2.0->ipywidgets->open3d) (3.2.3.post2)\n",
      "Requirement already satisfied: importlib-metadata; python_version < \"3.8\" in /usr/local/lib/python2.7/dist-packages (from jsonschema!=2.5.0,>=2.4->nbformat>=4.2.0->ipywidgets->open3d) (2.1.0)\n",
      "Requirement already satisfied: attrs>=17.4.0 in /usr/local/lib/python2.7/dist-packages (from jsonschema!=2.5.0,>=2.4->nbformat>=4.2.0->ipywidgets->open3d) (20.3.0)\n",
      "Requirement already satisfied: pyrsistent>=0.14.0 in /home/developer/.local/lib/python2.7/site-packages (from jsonschema!=2.5.0,>=2.4->nbformat>=4.2.0->ipywidgets->open3d) (0.16.1)\n",
      "Requirement already satisfied: configparser>=3.5; python_version == \"2.7\" in /usr/local/lib/python2.7/dist-packages (from entrypoints>=0.2.2->nbconvert<6.0->notebook->open3d) (4.0.2)\n",
      "Requirement already satisfied: webencodings in /usr/local/lib/python2.7/dist-packages (from bleach->nbconvert<6.0->notebook->open3d) (0.5.1)\n",
      "Requirement already satisfied: packaging in /usr/local/lib/python2.7/dist-packages (from bleach->nbconvert<6.0->notebook->open3d) (20.7)\n",
      "Requirement already satisfied: backports.functools-lru-cache>=1.2.1; python_version < \"3.2\" in /usr/local/lib/python2.7/dist-packages (from wcwidth->prompt-toolkit<2.0.0,>=1.0.4->ipython<6.0.0,>=4.0.0; python_version < \"3.3\"->ipywidgets->open3d) (1.6.1)\n",
      "Requirement already satisfied: contextlib2; python_version < \"3\" in /usr/local/lib/python2.7/dist-packages (from importlib-metadata; python_version < \"3.8\"->jsonschema!=2.5.0,>=2.4->nbformat>=4.2.0->ipywidgets->open3d) (0.6.0.post1)\n",
      "Requirement already satisfied: zipp>=0.5 in /usr/local/lib/python2.7/dist-packages (from importlib-metadata; python_version < \"3.8\"->jsonschema!=2.5.0,>=2.4->nbformat>=4.2.0->ipywidgets->open3d) (1.2.0)\n",
      "Requirement already satisfied: pyparsing>=2.0.2 in /usr/local/lib/python2.7/dist-packages (from packaging->bleach->nbconvert<6.0->notebook->open3d) (2.4.7)\n"
     ]
    },
    {
     "name": "stderr",
     "output_type": "stream",
     "text": [
      "DEPRECATION: Python 2.7 reached the end of its life on January 1st, 2020. Please upgrade your Python as Python 2.7 is no longer maintained. pip 21.0 will drop support for Python 2.7 in January 2021. More details about Python 2 support in pip can be found at https://pip.pypa.io/en/latest/development/release-process/#python-2-support pip 21.0 will remove support for this functionality.\n",
      "WARNING: You are using pip version 20.3; however, version 20.3.4 is available.\n",
      "You should consider upgrading via the '/usr/bin/python -m pip install --upgrade pip' command.\n"
     ]
    }
   ],
   "source": [
    "%%script bash \n",
    "python -m pip install trimesh rtree scipy open3d pptk"
   ]
  },
  {
   "cell_type": "code",
   "execution_count": 2,
   "metadata": {},
   "outputs": [],
   "source": [
    "%%script bash \n",
    "rosparam set use_sim_time true"
   ]
  },
  {
   "cell_type": "code",
   "execution_count": 3,
   "metadata": {},
   "outputs": [],
   "source": [
    "#!/usr/bin/env python\n",
    "# -*- coding: utf-8 -*-\n",
    "\n",
    "import matplotlib.pyplot as plt\n",
    "import rospy\n",
    "import tf\n",
    "from utils import *\n",
    "os.environ[\"DARKNET_PATH\"] = \"/workspace/src/dependencies/darknet/\"\n"
   ]
  },
  {
   "cell_type": "code",
   "execution_count": 4,
   "metadata": {},
   "outputs": [],
   "source": [
    "import trimesh\n",
    "import mesh_to_grasps\n",
    "import grasp_metrics\n",
    "import numpy as np\n",
    "import rtree \n",
    "import rospy\n",
    "\n",
    "from sensor_msgs.msg import PointCloud2, Image, CameraInfo, PointCloud, PointField\n",
    "from geometry_msgs.msg import Point32\n",
    "from std_msgs.msg import String\n",
    "import sensor_msgs.point_cloud2 as pc2\n",
    "import std_msgs.msg\n",
    "import message_filters\n",
    "\n",
    "import numpy as np\n",
    "import time\n",
    "import cv2\n",
    "from cv_bridge import CvBridge\n",
    "import darknet\n",
    "import os\n",
    "import random\n",
    "\n",
    "import open3d as o3d\n",
    "from open3d import JVisualizer\n",
    "import pptk\n",
    "\n"
   ]
  },
  {
   "cell_type": "markdown",
   "metadata": {},
   "source": [
    "Create objects and move the robot toward them"
   ]
  },
  {
   "cell_type": "code",
   "execution_count": 5,
   "metadata": {},
   "outputs": [],
   "source": [
    "rospy.init_node('demo')\n",
    "\n",
    "put_object(\"cracker_box\", 0.6, 1.9, 0.5)\n",
    "put_object(\"mustard_bottle\", 1.0, 1.8, 0.5)\n",
    "put_object(\"mug\", 0.8, 1.7, 0.5)\n",
    "put_object(\"foam_brick\", 1.2, 1.7, 0.5)\n",
    "\n",
    "# Move toward the table\n",
    "# look down a little\n",
    "move_head_tilt(-0.5)\n",
    "\n",
    "# move position\n",
    "move_arm_init()\n",
    "# move in front of the long table\n",
    "move_base_goal(1, 1, 90)\n",
    "# Look for objects\n",
    "time.sleep(1)"
   ]
  },
  {
   "cell_type": "markdown",
   "metadata": {},
   "source": [
    "Load Darknet config (YOLOV4)"
   ]
  },
  {
   "cell_type": "code",
   "execution_count": 6,
   "metadata": {},
   "outputs": [],
   "source": [
    "darknet_config_dir = os.path.join(os.environ.get('DARKNET_PATH', './'), \"darknet_config/\")\n",
    "config_file = darknet_config_dir+\"yolov4-tiny-obj.cfg\"\n",
    "data_file = darknet_config_dir+\"obj.data\"\n",
    "weights = darknet_config_dir+\"yolov4-tiny-obj_last.weights\"\n",
    "random.seed(3)  # deterministic bbox colors\n",
    "network, class_names, class_colors = darknet.load_network(config_file, data_file, weights, batch_size=1)\n",
    "\n",
    "prev_time = time.time()\n",
    "\n",
    "bridge = CvBridge()"
   ]
  },
  {
   "cell_type": "markdown",
   "metadata": {},
   "source": [
    "Get the current RGB and Depth Image from ROS"
   ]
  },
  {
   "cell_type": "code",
   "execution_count": 12,
   "metadata": {},
   "outputs": [],
   "source": [
    "image_rgb = rospy.wait_for_message('/hsrb/head_rgbd_sensor/rgb/image_rect_color', Image)\n",
    "image_depth = rospy.wait_for_message('/hsrb/head_rgbd_sensor/depth_registered/image_rect_raw', Image)\n",
    "pointcloud = rospy.wait_for_message('/hsrb/head_rgbd_sensor/depth_registered/rectified_points', PointCloud2)"
   ]
  },
  {
   "cell_type": "markdown",
   "metadata": {},
   "source": [
    "Transform from OpenCV (cv2)"
   ]
  },
  {
   "cell_type": "code",
   "execution_count": 13,
   "metadata": {},
   "outputs": [
    {
     "data": {
      "text/plain": [
       "rospy.Time[1622120134513231039]"
      ]
     },
     "execution_count": 13,
     "metadata": {},
     "output_type": "execute_result"
    }
   ],
   "source": [
    "image_cv2 = bridge.imgmsg_to_cv2(image_rgb, \"bgr8\")\n",
    "rospy.get_rostime()"
   ]
  },
  {
   "cell_type": "code",
   "execution_count": 14,
   "metadata": {},
   "outputs": [
    {
     "data": {
      "image/png": "[encoded data removed]",
      "text/plain": [
       "<Figure size 432x288 with 1 Axes>"
      ]
     },
     "metadata": {
      "needs_background": "light"
     },
     "output_type": "display_data"
    }
   ],
   "source": [
    "plt.imshow(image_cv2)\n",
    "plt.show()"
   ]
  },
  {
   "cell_type": "markdown",
   "metadata": {},
   "source": [
    "Perform detection using darknet"
   ]
  },
  {
   "cell_type": "code",
   "execution_count": 15,
   "metadata": {},
   "outputs": [
    {
     "data": {
      "image/png": "[encoded data removed]",
      "text/plain": [
       "<Figure size 432x288 with 1 Axes>"
      ]
     },
     "metadata": {
      "needs_background": "light"
     },
     "output_type": "display_data"
    }
   ],
   "source": [
    "def image_detection(image, network, class_names, class_colors, thresh=0.25):\n",
    "    # Darknet doesn't accept numpy images.\n",
    "    # Create one with image we reuse for each detect\n",
    "    # width = darknet.network_width(network)\n",
    "    # height = darknet.network_height(network)\n",
    "    width = 640\n",
    "    height = 480\n",
    "    height = darknet.network_height(network)\n",
    "    darknet_image = darknet.make_image(width, height, 3)\n",
    "\n",
    "    image_rgb = cv2.cvtColor(image, cv2.COLOR_BGR2RGB)\n",
    "    image_resized = cv2.resize(image_rgb, (width, height), interpolation=cv2.INTER_LINEAR)\n",
    "\n",
    "    darknet.copy_image_from_bytes(darknet_image, image_resized.tobytes())\n",
    "    detections = darknet.detect_image(network, class_names, darknet_image, thresh=thresh)\n",
    "    darknet.free_image(darknet_image)\n",
    "    image = darknet.draw_boxes(detections, image_resized, class_colors)\n",
    "    return cv2.cvtColor(image, cv2.COLOR_BGR2RGB), detections\n",
    "\n",
    "image, detections = image_detection(image_cv2, network, class_names, class_colors)\n",
    "plt.imshow(image)\n",
    "plt.show()"
   ]
  },
  {
   "cell_type": "markdown",
   "metadata": {},
   "source": [
    "Get the box coordinates from the first object"
   ]
  },
  {
   "cell_type": "code",
   "execution_count": 11,
   "metadata": {},
   "outputs": [
    {
     "ename": "IndexError",
     "evalue": "list index out of range",
     "output_type": "error",
     "traceback": [
      "\u001b[0;31m\u001b[0m",
      "\u001b[0;31mIndexError\u001b[0mTraceback (most recent call last)",
      "\u001b[0;32m<ipython-input-11-9217796a72f6>\u001b[0m in \u001b[0;36m<module>\u001b[0;34m()\u001b[0m\n\u001b[1;32m      6\u001b[0m     \u001b[0;32mreturn\u001b[0m \u001b[0mx_start\u001b[0m\u001b[0;34m,\u001b[0m \u001b[0my_start\u001b[0m\u001b[0;34m,\u001b[0m \u001b[0mx_end\u001b[0m\u001b[0;34m,\u001b[0m \u001b[0my_end\u001b[0m\u001b[0;34m\u001b[0m\u001b[0m\n\u001b[1;32m      7\u001b[0m \u001b[0;34m\u001b[0m\u001b[0m\n\u001b[0;32m----> 8\u001b[0;31m \u001b[0mx\u001b[0m\u001b[0;34m,\u001b[0m \u001b[0my\u001b[0m\u001b[0;34m,\u001b[0m \u001b[0mw\u001b[0m\u001b[0;34m,\u001b[0m \u001b[0mh\u001b[0m \u001b[0;34m=\u001b[0m \u001b[0mdetections\u001b[0m\u001b[0;34m[\u001b[0m\u001b[0;36m1\u001b[0m\u001b[0;34m]\u001b[0m\u001b[0;34m[\u001b[0m\u001b[0;36m2\u001b[0m\u001b[0;34m]\u001b[0m\u001b[0;34m[\u001b[0m\u001b[0;36m0\u001b[0m\u001b[0;34m]\u001b[0m\u001b[0;34m,\u001b[0m \u001b[0mdetections\u001b[0m\u001b[0;34m[\u001b[0m\u001b[0;36m1\u001b[0m\u001b[0;34m]\u001b[0m\u001b[0;34m[\u001b[0m\u001b[0;36m2\u001b[0m\u001b[0;34m]\u001b[0m\u001b[0;34m[\u001b[0m\u001b[0;36m1\u001b[0m\u001b[0;34m]\u001b[0m\u001b[0;34m,\u001b[0m \u001b[0mdetections\u001b[0m\u001b[0;34m[\u001b[0m\u001b[0;36m1\u001b[0m\u001b[0;34m]\u001b[0m\u001b[0;34m[\u001b[0m\u001b[0;36m2\u001b[0m\u001b[0;34m]\u001b[0m\u001b[0;34m[\u001b[0m\u001b[0;36m2\u001b[0m\u001b[0;34m]\u001b[0m\u001b[0;34m,\u001b[0m \u001b[0mdetections\u001b[0m\u001b[0;34m[\u001b[0m\u001b[0;36m1\u001b[0m\u001b[0;34m]\u001b[0m\u001b[0;34m[\u001b[0m\u001b[0;36m2\u001b[0m\u001b[0;34m]\u001b[0m\u001b[0;34m[\u001b[0m\u001b[0;36m3\u001b[0m\u001b[0;34m]\u001b[0m\u001b[0;34m\u001b[0m\u001b[0m\n\u001b[0m\u001b[1;32m      9\u001b[0m \u001b[0mx_start\u001b[0m\u001b[0;34m,\u001b[0m \u001b[0my_start\u001b[0m\u001b[0;34m,\u001b[0m \u001b[0mx_end\u001b[0m\u001b[0;34m,\u001b[0m \u001b[0my_end\u001b[0m \u001b[0;34m=\u001b[0m \u001b[0mconvertCoords\u001b[0m\u001b[0;34m(\u001b[0m\u001b[0mx\u001b[0m\u001b[0;34m,\u001b[0m\u001b[0my\u001b[0m\u001b[0;34m,\u001b[0m\u001b[0mw\u001b[0m\u001b[0;34m,\u001b[0m\u001b[0mh\u001b[0m\u001b[0;34m)\u001b[0m\u001b[0;34m\u001b[0m\u001b[0m\n",
      "\u001b[0;31mIndexError\u001b[0m: list index out of range"
     ]
    }
   ],
   "source": [
    "def convertCoords(x1, y1, w_size, h_size):\n",
    "    x_start = \tint(round(x1 - (w_size/2)))\n",
    "    y_start = \tint(round(y1 - (h_size/2)))\n",
    "    x_end   = \tint(round(x_start + w_size))\n",
    "    y_end   = \tint(round(y_start + h_size))\n",
    "    return x_start, y_start, x_end, y_end\n",
    "\n",
    "x, y, w, h = detections[1][2][0], detections[1][2][1], detections[1][2][2], detections[1][2][3]\n",
    "x_start, y_start, x_end, y_end = convertCoords(x,y,w,h)\n"
   ]
  },
  {
   "cell_type": "markdown",
   "metadata": {},
   "source": [
    "Get the object corresponding pointcloud by cropping the global pointcloud "
   ]
  },
  {
   "cell_type": "code",
   "execution_count": null,
   "metadata": {},
   "outputs": [],
   "source": [
    "def crop_pointcloud( min_x, min_y, max_x, max_y, width, height, pointcloud_sub):\n",
    "    points = []\n",
    "    for i in range(min_x, max_x):\n",
    "        for j in range(min_y, max_y):\n",
    "            points.append([i, j])\n",
    "\n",
    "    points = list(pc2.read_points(pointcloud_sub, field_names=(\"x\", \"y\", \"z\"), skip_nans=True, uvs=points))\n",
    "    return points\n",
    "    \n",
    "points = crop_pointcloud(x_start, y_start, x_end, y_end, w, h, pointcloud)\n",
    "\n",
    "pcd = o3d.geometry.PointCloud()\n",
    "pcd.points = o3d.utility.Vector3dVector(points)\n",
    "\n",
    "visualizer = JVisualizer()\n",
    "visualizer.add_geometry(pcd)\n",
    "visualizer.show()\n"
   ]
  },
  {
   "cell_type": "code",
   "execution_count": null,
   "metadata": {},
   "outputs": [],
   "source": []
  }
 ],
 "metadata": {
  "kernelspec": {
   "display_name": "Python 2",
   "language": "python",
   "name": "python2"
  },
  "language_info": {
   "codemirror_mode": {
    "name": "ipython",
    "version": 2
   },
   "file_extension": ".py",
   "mimetype": "text/x-python",
   "name": "python",
   "nbconvert_exporter": "python",
   "pygments_lexer": "ipython2",
   "version": "2.7.17"
  },
  "nbTranslate": {
   "displayLangs": [
    "en"
   ],
   "hotkey": "alt-t",
   "langInMainMenu": true,
   "sourceLang": "ja",
   "targetLang": "en",
   "useGoogleTranslate": true
  },
  "toc": {
   "base_numbering": 1,
   "nav_menu": {},
   "number_sections": true,
   "sideBar": true,
   "skip_h1_title": false,
   "title_cell": "Table of Contents",
   "title_sidebar": "Contents",
   "toc_cell": false,
   "toc_position": {},
   "toc_section_display": true,
   "toc_window_display": true
  }
 },
 "nbformat": 4,
 "nbformat_minor": 2
}
